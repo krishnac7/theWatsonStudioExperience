{
 "cells": [
  {
   "cell_type": "code",
   "execution_count": 4,
   "metadata": {},
   "outputs": [],
   "source": [
    "# Required Packages\n",
    "import csv\n",
    "import sys\n",
    "import matplotlib.pyplot as plt\n",
    "import numpy as np\n",
    "import pandas as pd\n",
    "from sklearn import datasets, linear_model"
   ]
  },
  {
   "cell_type": "code",
   "execution_count": 5,
   "metadata": {},
   "outputs": [
    {
     "data": {
      "text/html": [
       "<div>\n",
       "<table border=\"1\" class=\"dataframe\">\n",
       "  <thead>\n",
       "    <tr style=\"text-align: right;\">\n",
       "      <th></th>\n",
       "      <th>flash_episode</th>\n",
       "      <th>flash_us_viewers</th>\n",
       "      <th>arrow_episode</th>\n",
       "      <th>arrow_us_viewers</th>\n",
       "    </tr>\n",
       "  </thead>\n",
       "  <tbody>\n",
       "    <tr>\n",
       "      <th>0</th>\n",
       "      <td>1</td>\n",
       "      <td>4.83</td>\n",
       "      <td>1</td>\n",
       "      <td>2.84</td>\n",
       "    </tr>\n",
       "    <tr>\n",
       "      <th>1</th>\n",
       "      <td>2</td>\n",
       "      <td>4.27</td>\n",
       "      <td>2</td>\n",
       "      <td>2.32</td>\n",
       "    </tr>\n",
       "    <tr>\n",
       "      <th>2</th>\n",
       "      <td>3</td>\n",
       "      <td>3.59</td>\n",
       "      <td>3</td>\n",
       "      <td>2.55</td>\n",
       "    </tr>\n",
       "    <tr>\n",
       "      <th>3</th>\n",
       "      <td>4</td>\n",
       "      <td>3.53</td>\n",
       "      <td>4</td>\n",
       "      <td>2.49</td>\n",
       "    </tr>\n",
       "    <tr>\n",
       "      <th>4</th>\n",
       "      <td>5</td>\n",
       "      <td>3.46</td>\n",
       "      <td>5</td>\n",
       "      <td>2.73</td>\n",
       "    </tr>\n",
       "  </tbody>\n",
       "</table>\n",
       "</div>"
      ],
      "text/plain": [
       "   flash_episode  flash_us_viewers  arrow_episode  arrow_us_viewers\n",
       "0              1              4.83              1              2.84\n",
       "1              2              4.27              2              2.32\n",
       "2              3              3.59              3              2.55\n",
       "3              4              3.53              4              2.49\n",
       "4              5              3.46              5              2.73"
      ]
     },
     "execution_count": 5,
     "metadata": {},
     "output_type": "execute_result"
    }
   ],
   "source": [
    "#insert your viewershipData.csv padas dataframe object here"
   ]
  },
  {
   "cell_type": "code",
   "execution_count": 9,
   "metadata": {},
   "outputs": [],
   "source": [
    "# Function to get data\n",
    "def get_data():\n",
    "    data = df_data_1.dropna(thresh=1)\n",
    "    flash_x_parameter,flash_y_parameter,arrow_x_parameter,arrow_y_parameter= [],[],[],[]\n",
    "    for x1,y1,x2,y2 in zip(data['flash_episode'], data['flash_us_viewers'],\n",
    "        data['arrow_episode'],data['arrow_us_viewers']):\n",
    "        flash_x_parameter.append([float(x1)])\n",
    "        flash_y_parameter.append(float(y1))\n",
    "        arrow_x_parameter.append([float(x2)])\n",
    "        arrow_y_parameter.append(float(y2))\n",
    "    return flash_x_parameter,flash_y_parameter,arrow_x_parameter,arrow_y_parameter"
   ]
  },
  {
   "cell_type": "code",
   "execution_count": 10,
   "metadata": {},
   "outputs": [],
   "source": [
    "# Function to know which Tv show will have more viewers\n",
    "def more_viewers(x1,y1,x2,y2):\n",
    "    regr1 = linear_model.LinearRegression()\n",
    "    regr1.fit(x1, y1)\n",
    "    predicted_value1 = regr1.predict(9)\n",
    "    print predicted_value1\n",
    "    regr2 = linear_model.LinearRegression()\n",
    "    regr2.fit(x2, y2)\n",
    "    predicted_value2 = regr2.predict(9)\n",
    "    if predicted_value1 > predicted_value2:\n",
    "        print \"The Flash Tv Show will have more viewers for next week\"\n",
    "    else:\n",
    "        print \"Arrow Tv Show will have more viewers for next week\"\n",
    " "
   ]
  },
  {
   "cell_type": "code",
   "execution_count": 11,
   "metadata": {},
   "outputs": [
    {
     "name": "stdout",
     "output_type": "stream",
     "text": [
      "[ 3.95266667]\n",
      "The Flash Tv Show will have more viewers for next week\n"
     ]
    }
   ],
   "source": [
    "x1,y1,x2,y2 = get_data()\n",
    "# Call the function more_viewers to predict the more viewers television show\n",
    "more_viewers(x1,y1,x2,y2)"
   ]
  },
  {
   "cell_type": "code",
   "execution_count": null,
   "metadata": {
    "collapsed": true
   },
   "outputs": [],
   "source": []
  }
 ],
 "metadata": {
  "kernelspec": {
   "display_name": "Python 2 with Spark 2.0",
   "language": "python",
   "name": "python2-spark20"
  },
  "language_info": {
   "codemirror_mode": {
    "name": "ipython",
    "version": 2
   },
   "file_extension": ".py",
   "mimetype": "text/x-python",
   "name": "python",
   "nbconvert_exporter": "python",
   "pygments_lexer": "ipython2",
   "version": "2.7.11"
  }
 },
 "nbformat": 4,
 "nbformat_minor": 1
}
